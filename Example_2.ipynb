{
 "cells": [
  {
   "cell_type": "code",
   "execution_count": 203,
   "id": "d0cc5a1e-ef33-43ab-a5a3-bcd39d47cf40",
   "metadata": {
    "tags": []
   },
   "outputs": [],
   "source": [
    "# Create the datetime sample \n",
    "datesample = '''string\n",
    "**2015-01-04**#\n",
    "\n",
    "/20210506*&\n",
    "null\n",
    "afafaga\n",
    "2024-02-02\n",
    "'''\n",
    "\n",
    "with open ('date.txt', 'w') as file:\n",
    "    file.write(datesample)"
   ]
  },
  {
   "cell_type": "code",
   "execution_count": 214,
   "id": "07b46168-a824-48fa-869a-7a821468099c",
   "metadata": {
    "tags": []
   },
   "outputs": [],
   "source": [
    "# CLEAN function \n",
    "import re\n",
    "def clean(str):\n",
    "    # A collection of acceptances [],   r'' means raw string\n",
    "    str = re.sub(r'[^\\w\\s]', '', str).strip()\n",
    "    # Search eight digits\n",
    "    match = re.search(r'\\d{8}', str)\n",
    "    if match:\n",
    "        return match.group()\n",
    "    else:\n",
    "        return None\n",
    "    "
   ]
  },
  {
   "cell_type": "code",
   "execution_count": 215,
   "id": "af70b4fd-bb2d-4b87-86b5-3d2a340d3b8e",
   "metadata": {
    "tags": []
   },
   "outputs": [
    {
     "data": {
      "text/html": [
       "<div>\n",
       "<style scoped>\n",
       "    .dataframe tbody tr th:only-of-type {\n",
       "        vertical-align: middle;\n",
       "    }\n",
       "\n",
       "    .dataframe tbody tr th {\n",
       "        vertical-align: top;\n",
       "    }\n",
       "\n",
       "    .dataframe thead th {\n",
       "        text-align: right;\n",
       "    }\n",
       "</style>\n",
       "<table border=\"1\" class=\"dataframe\">\n",
       "  <thead>\n",
       "    <tr style=\"text-align: right;\">\n",
       "      <th></th>\n",
       "      <th>Date</th>\n",
       "    </tr>\n",
       "  </thead>\n",
       "  <tbody>\n",
       "    <tr>\n",
       "      <th>0</th>\n",
       "      <td>20150104</td>\n",
       "    </tr>\n",
       "    <tr>\n",
       "      <th>1</th>\n",
       "      <td>None</td>\n",
       "    </tr>\n",
       "    <tr>\n",
       "      <th>2</th>\n",
       "      <td>20210506</td>\n",
       "    </tr>\n",
       "    <tr>\n",
       "      <th>3</th>\n",
       "      <td>None</td>\n",
       "    </tr>\n",
       "    <tr>\n",
       "      <th>4</th>\n",
       "      <td>None</td>\n",
       "    </tr>\n",
       "    <tr>\n",
       "      <th>5</th>\n",
       "      <td>20240202</td>\n",
       "    </tr>\n",
       "  </tbody>\n",
       "</table>\n",
       "</div>"
      ],
      "text/plain": [
       "       Date\n",
       "0  20150104\n",
       "1      None\n",
       "2  20210506\n",
       "3      None\n",
       "4      None\n",
       "5  20240202"
      ]
     },
     "execution_count": 215,
     "metadata": {},
     "output_type": "execute_result"
    }
   ],
   "source": [
    "# Read from txt. Create as a dataframe.\n",
    "import pandas as pd\n",
    "data = []\n",
    "with open ('date.txt', 'r') as file:\n",
    "    next(file)\n",
    "    for line in file:\n",
    "        # Clean line\n",
    "        line = clean(line)\n",
    "        data.append([line])\n",
    "df = pd.DataFrame(data , columns=['Date'])\n",
    "df"
   ]
  },
  {
   "cell_type": "code",
   "execution_count": 217,
   "id": "0732edff-8ff3-4bd6-bdb4-d9130f2433c8",
   "metadata": {
    "tags": []
   },
   "outputs": [
    {
     "data": {
      "text/html": [
       "<div>\n",
       "<style scoped>\n",
       "    .dataframe tbody tr th:only-of-type {\n",
       "        vertical-align: middle;\n",
       "    }\n",
       "\n",
       "    .dataframe tbody tr th {\n",
       "        vertical-align: top;\n",
       "    }\n",
       "\n",
       "    .dataframe thead th {\n",
       "        text-align: right;\n",
       "    }\n",
       "</style>\n",
       "<table border=\"1\" class=\"dataframe\">\n",
       "  <thead>\n",
       "    <tr style=\"text-align: right;\">\n",
       "      <th></th>\n",
       "      <th>Date</th>\n",
       "    </tr>\n",
       "  </thead>\n",
       "  <tbody>\n",
       "    <tr>\n",
       "      <th>0</th>\n",
       "      <td>2015-01-04</td>\n",
       "    </tr>\n",
       "    <tr>\n",
       "      <th>2</th>\n",
       "      <td>2021-05-06</td>\n",
       "    </tr>\n",
       "    <tr>\n",
       "      <th>5</th>\n",
       "      <td>2024-02-02</td>\n",
       "    </tr>\n",
       "  </tbody>\n",
       "</table>\n",
       "</div>"
      ],
      "text/plain": [
       "        Date\n",
       "0 2015-01-04\n",
       "2 2021-05-06\n",
       "5 2024-02-02"
      ]
     },
     "execution_count": 217,
     "metadata": {},
     "output_type": "execute_result"
    }
   ],
   "source": [
    "df['Date'] = pd.to_datetime(df['Date'], format= '%Y%m%d') # You need to set the column to be the to_datetime values. It is not in place.\n",
    "df.dropna(inplace=True)\n",
    "df"
   ]
  }
 ],
 "metadata": {
  "kernelspec": {
   "display_name": "",
   "name": ""
  },
  "language_info": {
   "name": ""
  }
 },
 "nbformat": 4,
 "nbformat_minor": 5
}
