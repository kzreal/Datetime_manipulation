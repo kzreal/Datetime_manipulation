{
 "cells": [
  {
   "cell_type": "code",
   "execution_count": 145,
   "id": "71ca69c6-7d1d-4657-b185-9104ad548fd4",
   "metadata": {
    "tags": []
   },
   "outputs": [],
   "source": [
    "# Find the largest number of consecutive operations for each group\n",
    "data = '''\n",
    "id, month, operation\n",
    "1,202001, 0\n",
    "1,   202002,1\n",
    "1,202003,1\n",
    "2,202001,0\n",
    "2,202002,1\n",
    "2,202003,0\n",
    "'''\n",
    "\n",
    "with open('sample_data.txt', 'w') as file:\n",
    "    file.write(data)"
   ]
  },
  {
   "cell_type": "markdown",
   "id": "a8516ea5-a579-4f74-ba06-4ded6d828ce1",
   "metadata": {},
   "source": [
    "# Approach 1"
   ]
  },
  {
   "cell_type": "code",
   "execution_count": 115,
   "id": "038bd7b6-8d51-45c4-bc4f-8188de0730de",
   "metadata": {
    "tags": []
   },
   "outputs": [
    {
     "name": "stdout",
     "output_type": "stream",
     "text": [
      "   id      month  operation\n",
      "0   1 2020-01-01          0\n",
      "1   1 2020-02-01          1\n",
      "2   1 2020-03-01          1\n",
      "3   2 2020-01-01          0\n",
      "4   2 2020-02-01          1\n",
      "5   2 2020-03-01          0\n"
     ]
    }
   ],
   "source": [
    "import pandas as pd\n",
    "df = pd.read_csv('sample_data.txt', delimiter= ',')\n",
    "df.columns = df.columns.str.strip()\n",
    "df['month'] = pd.to_datetime(df['month'], format = '%Y%m')\n",
    "print(df)"
   ]
  },
  {
   "cell_type": "code",
   "execution_count": null,
   "id": "4f1c4a2f-efb2-4470-b99f-12b1fcc5c662",
   "metadata": {},
   "outputs": [],
   "source": []
  },
  {
   "cell_type": "code",
   "execution_count": null,
   "id": "64f654b1-1cae-4fd3-a5f8-c25202c85308",
   "metadata": {},
   "outputs": [],
   "source": []
  },
  {
   "cell_type": "markdown",
   "id": "34c60504-54ac-45ef-971e-8f5801186465",
   "metadata": {},
   "source": [
    "# Approach 2"
   ]
  },
  {
   "cell_type": "code",
   "execution_count": 146,
   "id": "7af0fcb9-ea69-4ba2-a7ce-cb2f110d5c84",
   "metadata": {
    "tags": []
   },
   "outputs": [],
   "source": [
    "id = []\n",
    "month = []\n",
    "operation = []\n",
    "with open('sample_data.txt', 'r') as file:\n",
    "    for _ in range(2):\n",
    "        next(file)\n",
    "    for line in file:\n",
    "        parts = line.strip().split(',')\n",
    "        [a,b,c] = parts\n",
    "        id.append(a.strip())\n",
    "        month.append(b.strip())               \n",
    "        operation.append(c.strip())     "
   ]
  },
  {
   "cell_type": "code",
   "execution_count": 147,
   "id": "fff6ca30-8ce9-42cc-bab8-270918cd9750",
   "metadata": {
    "tags": []
   },
   "outputs": [
    {
     "name": "stdout",
     "output_type": "stream",
     "text": [
      "   id      month  operation\n",
      "0   1 2020-01-01          0\n",
      "1   1 2020-02-01          1\n",
      "2   1 2020-03-01          1\n",
      "3   2 2020-01-01          0\n",
      "4   2 2020-02-01          1\n",
      "5   2 2020-03-01          0\n"
     ]
    }
   ],
   "source": [
    "import pandas as pd\n",
    "df = pd.DataFrame({'id':id,'month':month,'operation':operation})\n",
    "df.month = pd.to_datetime(df.month, format = '%Y%m')\n",
    "df.operation = df.operation.astype(int)\n",
    "df.id = df.id.astype(int)\n",
    "print(df)"
   ]
  },
  {
   "cell_type": "code",
   "execution_count": 126,
   "id": "56f92a17-c439-4bb1-98bb-1ed611f3c54d",
   "metadata": {
    "tags": []
   },
   "outputs": [],
   "source": [
    "def consecutive(df):\n",
    "    n = 0\n",
    "    m = 0 \n",
    "    for i in df:\n",
    "        if i == 1:\n",
    "            n += 1 \n",
    "            if m < n:\n",
    "                m = n\n",
    "        else:\n",
    "            n = 0 \n",
    "    return m"
   ]
  },
  {
   "cell_type": "code",
   "execution_count": 149,
   "id": "8ba3da03-80f0-41ca-b24d-f4c6c64927c3",
   "metadata": {
    "tags": []
   },
   "outputs": [
    {
     "data": {
      "text/html": [
       "<div>\n",
       "<style scoped>\n",
       "    .dataframe tbody tr th:only-of-type {\n",
       "        vertical-align: middle;\n",
       "    }\n",
       "\n",
       "    .dataframe tbody tr th {\n",
       "        vertical-align: top;\n",
       "    }\n",
       "\n",
       "    .dataframe thead th {\n",
       "        text-align: right;\n",
       "    }\n",
       "</style>\n",
       "<table border=\"1\" class=\"dataframe\">\n",
       "  <thead>\n",
       "    <tr style=\"text-align: right;\">\n",
       "      <th></th>\n",
       "      <th>id</th>\n",
       "      <th>operation</th>\n",
       "    </tr>\n",
       "  </thead>\n",
       "  <tbody>\n",
       "    <tr>\n",
       "      <th>0</th>\n",
       "      <td>1</td>\n",
       "      <td>2</td>\n",
       "    </tr>\n",
       "    <tr>\n",
       "      <th>1</th>\n",
       "      <td>2</td>\n",
       "      <td>1</td>\n",
       "    </tr>\n",
       "  </tbody>\n",
       "</table>\n",
       "</div>"
      ],
      "text/plain": [
       "   id  operation\n",
       "0   1          2\n",
       "1   2          1"
      ]
     },
     "execution_count": 149,
     "metadata": {},
     "output_type": "execute_result"
    }
   ],
   "source": [
    "df.groupby(['id'], as_index = False).agg({'operation':consecutive})"
   ]
  }
 ],
 "metadata": {
  "kernelspec": {
   "display_name": "Python 3 (ipykernel)",
   "language": "python",
   "name": "python3"
  },
  "language_info": {
   "codemirror_mode": {
    "name": "ipython",
    "version": 3
   },
   "file_extension": ".py",
   "mimetype": "text/x-python",
   "name": "python",
   "nbconvert_exporter": "python",
   "pygments_lexer": "ipython3",
   "version": "3.11.5"
  }
 },
 "nbformat": 4,
 "nbformat_minor": 5
}
